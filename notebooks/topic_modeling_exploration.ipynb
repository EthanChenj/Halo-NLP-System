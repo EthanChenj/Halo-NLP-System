{
 "cells": [
  {
   "cell_type": "code",
   "execution_count": null,
   "id": "79686b4c",
   "metadata": {},
   "outputs": [],
   "source": [
    "import pandas as pd\n",
    "from transformers import pipeline\n",
    "import pickle\n",
    "import json"
   ]
  },
  {
   "cell_type": "code",
   "execution_count": null,
   "id": "3fe035e7",
   "metadata": {},
   "outputs": [],
   "source": [
    "# Navigate to parent directory\n",
    "import os\n",
    "os.chdir('../')\n",
    "from src.data_processing import preprocess"
   ]
  },
  {
   "cell_type": "code",
   "execution_count": null,
   "id": "684d98e0",
   "metadata": {},
   "outputs": [],
   "source": [
    "# Load and preprocess data\n",
    "df = pd.read_csv('data/.csv')\n",
    "reviews = df['Text'].tolist()\n",
    "df['Text'] = df['Text'].apply(preprocess)"
   ]
  },
  {
   "cell_type": "code",
   "execution_count": null,
   "id": "0a160a7f",
   "metadata": {},
   "outputs": [],
   "source": [
    "# Topics the model will use to classify reviews\n",
    "\n",
    "with open('data/topics.json', 'r') as f:\n",
    "    topics_data = json.load(f)\n",
    "candidate_topics = topics_data['candidate_topics']"
   ]
  },
  {
   "cell_type": "code",
   "execution_count": null,
   "id": "b8d093f4",
   "metadata": {},
   "outputs": [],
   "source": [
    "# Initialize the zero-shot classification pipeline\n",
    "classifier = pipeline(\"zero-shot-classification\", model=\"facebook/bart-large-mnli\")"
   ]
  },
  {
   "cell_type": "code",
   "execution_count": null,
   "id": "35ef55f4",
   "metadata": {},
   "outputs": [],
   "source": [
    "# Classify each review\n",
    "results = classifier(reviews, candidate_topics, multi_label=False)"
   ]
  },
  {
   "cell_type": "code",
   "execution_count": null,
   "id": "03a460ea",
   "metadata": {},
   "outputs": [],
   "source": [
    "# Shows predicted topic and confidence score for each\n",
    "df['predicted_topic'] = [result['labels'][0] for result in results]\n",
    "df['topic_confidence'] = [result['scores'][0] for result in results]\n",
    "\n",
    "print(df[['Text', 'predicted_topic', 'topic_confidence']].head())\n",
    "\n",
    "# Show topic distribution\n",
    "print(\"\\nTopic Distribution:\")\n",
    "print(df['predicted_topic'].value_counts())"
   ]
  },
  {
   "cell_type": "code",
   "execution_count": null,
   "id": "6c44e9e4",
   "metadata": {},
   "outputs": [],
   "source": [
    "# Define the directory\n",
    "model_dir = \"./models/zero_shot_model\"\n",
    "os.makedirs(model_dir, exist_ok=True)"
   ]
  },
  {
   "cell_type": "code",
   "execution_count": null,
   "id": "e541b6a7",
   "metadata": {},
   "outputs": [],
   "source": [
    "# Save the *pipeline* itself.  That's what contains the model and tokenizer.\n",
    "model_path = os.path.join(model_dir, \"zero_shot_pipeline.pkl\")\n",
    "with open(model_path, \"wb\") as f:\n",
    "    pickle.dump(classifier, f)\n",
    "print(f\"Zero-shot classification model saved to {model_path}\")"
   ]
  }
 ],
 "metadata": {
  "kernelspec": {
   "display_name": "venv",
   "language": "python",
   "name": "python3"
  },
  "language_info": {
   "codemirror_mode": {
    "name": "ipython",
    "version": 3
   },
   "file_extension": ".py",
   "mimetype": "text/x-python",
   "name": "python",
   "nbconvert_exporter": "python",
   "pygments_lexer": "ipython3",
   "version": "3.12.9"
  }
 },
 "nbformat": 4,
 "nbformat_minor": 5
}
